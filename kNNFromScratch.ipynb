{
 "cells": [
  {
   "cell_type": "markdown",
   "metadata": {},
   "source": [
    "## Classification using kNN"
   ]
  },
  {
   "cell_type": "markdown",
   "metadata": {},
   "source": [
    "**Import the required libraries**"
   ]
  },
  {
   "cell_type": "code",
   "execution_count": 1,
   "metadata": {},
   "outputs": [],
   "source": [
    "import re\n",
    "import math\n",
    "import numpy as np\n",
    "import pandas as pd\n",
    "import string\n",
    "import scipy as sp\n",
    "import nltk\n",
    "import time\n",
    "import operator\n",
    "from random import randrange\n",
    "\n",
    "\n",
    "import warnings\n",
    "warnings.filterwarnings('ignore')"
   ]
  },
  {
   "cell_type": "markdown",
   "metadata": {},
   "source": [
    "**The following cell contains a class of methods to calculate distance between two points using various techniques**"
   ]
  },
  {
   "cell_type": "markdown",
   "metadata": {},
   "source": [
    "**Formula to calculate Eucledian distance:**\n",
    "\n",
    "<math>\\begin{align}D(x, y) = \\sqrt{ \\sum_i (x_i - y_i) ^ 2 }\\end{align}</math>"
   ]
  },
  {
   "cell_type": "markdown",
   "metadata": {},
   "source": [
    "**Formula to calculate Manhattan Distance:**\n",
    "\n",
    "<math>\\begin{align}D(x, y) = \\sum_i |x_i - y_i|\\end{align}</math>"
   ]
  },
  {
   "cell_type": "markdown",
   "metadata": {},
   "source": [
    "**Formula to calculate Hamming Distance:**\n",
    "\n",
    "<math>\\begin{align}D(x, y) = \\frac{1}{N} \\sum_i \\delta_{x_i, y_i}\\end{align}</math>"
   ]
  },
  {
   "cell_type": "code",
   "execution_count": 2,
   "metadata": {},
   "outputs": [],
   "source": [
    "class distanceMetrics:\n",
    "    '''\n",
    "    Description:\n",
    "        This class contains methods to calculate various distance metrics\n",
    "    '''\n",
    "    def __init__(self):\n",
    "        '''\n",
    "        Description:\n",
    "            Initialization/Constructor function\n",
    "        '''\n",
    "        pass\n",
    "        \n",
    "    def euclideanDistance(self, vector1, vector2):\n",
    "        '''\n",
    "        Description:\n",
    "            Function to calculate Euclidean Distance\n",
    "                \n",
    "        Inputs:\n",
    "            vector1, vector2: input vectors for which the distance is to be calculated\n",
    "        Output:\n",
    "            Calculated euclidean distance of two vectors\n",
    "        '''\n",
    "        self.vectorA, self.vectorB = vector1, vector2\n",
    "        if len(self.vectorA) != len(self.vectorB):\n",
    "            raise ValueError(\"Undefined for sequences of unequal length.\")\n",
    "        distance = 0.0\n",
    "        for i in range(len(self.vectorA)-1):\n",
    "            distance += (self.vectorA[i] - self.vectorB[i])**2\n",
    "        return (distance)**0.5\n",
    "    \n",
    "    def manhattanDistance(self, vector1, vector2):\n",
    "        \"\"\"\n",
    "        Desription:\n",
    "            Takes 2 vectors a, b and returns the manhattan distance\n",
    "        Inputs:\n",
    "            vector1, vector2: two vectors for which the distance is to be calculated\n",
    "        Output:\n",
    "            Manhattan Distance of two input vectors\n",
    "        \"\"\"\n",
    "        self.vectorA, self.vectorB = vector1, vector2\n",
    "        if len(self.vectorA) != len(self.vectorB):\n",
    "            raise ValueError(\"Undefined for sequences of unequal length.\")\n",
    "        return np.abs(np.array(self.vectorA) - np.array(self.vectorB)).sum()\n",
    "    \n",
    "    def hammingDistance(self, vector1, vector2):\n",
    "        \"\"\"\n",
    "        Desription:\n",
    "            Takes 2 vectors a, b and returns the hamming distance\n",
    "            Hamming distance is meant for discrete-valued vectors, though it is a \n",
    "            valid metric for real-valued vectors.\n",
    "        Inputs:\n",
    "            vector1, vector2: two vectors for which the distance is to be calculated\n",
    "        Output:\n",
    "           Hamming Distance of two input vectors \n",
    "        \"\"\"\n",
    "        self.vectorA, self.vectorB = vector1, vector2\n",
    "        if len(self.vectorA) != len(self.vectorB):\n",
    "            raise ValueError(\"Undefined for sequences of unequal length.\")\n",
    "        return sum(el1 != el2 for el1, el2 in zip(self.vectorA, self.vectorB))\n"
   ]
  },
  {
   "cell_type": "code",
   "execution_count": 3,
   "metadata": {},
   "outputs": [],
   "source": [
    "class kNNClassifier:\n",
    "    '''\n",
    "    Description:\n",
    "        This class contains the functions to calculate distances\n",
    "    '''\n",
    "    def __init__(self,k = 3, distanceMetric = 'euclidean'):\n",
    "        '''\n",
    "        Description:\n",
    "            KNearestNeighbors constructor\n",
    "        Input    \n",
    "            k: total of neighbors. Defaulted to 3\n",
    "            distanceMetric: type of distance metric to be used. Defaulted to euclidean distance.\n",
    "        '''\n",
    "        pass\n",
    "    \n",
    "    def fit(self, xTrain, yTrain):\n",
    "        '''\n",
    "        Description:\n",
    "            Train kNN model with x data\n",
    "        Input:\n",
    "            xTrain: training data with coordinates\n",
    "            yTrain: labels of training data set\n",
    "        Output:\n",
    "            None\n",
    "        '''\n",
    "        assert len(xTrain) == len(yTrain)\n",
    "        self.trainData = xTrain\n",
    "        self.trainLabels = yTrain\n",
    "\n",
    "    def getNeighbors(self, testRow):\n",
    "        '''\n",
    "        Description:\n",
    "            Train kNN model with x data\n",
    "        Input:\n",
    "            testRow: testing data with coordinates\n",
    "        Output:\n",
    "            k-nearest neighbors to the test data\n",
    "        '''\n",
    "        \n",
    "        calcDM = distanceMetrics()\n",
    "        distances = []\n",
    "        for i, trainRow in enumerate(self.trainData):\n",
    "            if self.distanceMetric == 'euclidean':\n",
    "                distances.append([trainRow, calcDM.euclideanDistance(testRow, trainRow), self.trainLabels[i]])\n",
    "            elif self.distanceMetric == 'manhattan':\n",
    "                distances.append([trainRow, calcDM.manhattanDistance(testRow, trainRow), self.trainLabels[i]])\n",
    "            elif self.distanceMetric == 'hamming':\n",
    "                distances.append([trainRow, calcDM.hammingDistance(testRow, trainRow), self.trainLabels[i]])\n",
    "            distances.sort(key=operator.itemgetter(1))\n",
    "\n",
    "        neighbors = []\n",
    "        for index in range(self.k):\n",
    "            neighbors.append(distances[index])\n",
    "        return neighbors\n",
    "        \n",
    "    def predict(self, xTest, k, distanceMetric):\n",
    "        '''\n",
    "        Description:\n",
    "            Apply kNN model on test data\n",
    "        Input:\n",
    "            xTest: testing data with coordinates\n",
    "            k: number of neighbors\n",
    "            distanceMetric: technique to calculate distance metric\n",
    "        Output:\n",
    "            predicted label \n",
    "        '''\n",
    "        self.testData = xTest\n",
    "        self.k = k\n",
    "        self.distanceMetric = distanceMetric\n",
    "        predictions = []\n",
    "        \n",
    "        for i, testCase in enumerate(self.testData):\n",
    "            neighbors = self.getNeighbors(testCase)\n",
    "            output= [row[-1] for row in neighbors]\n",
    "            prediction = int(sum(output) / len(output))\n",
    "            predictions.append(prediction)\n",
    "        \n",
    "        return predictions"
   ]
  },
  {
   "cell_type": "code",
   "execution_count": 4,
   "metadata": {},
   "outputs": [],
   "source": [
    "def printMetrics(actual, predictions):\n",
    "    '''\n",
    "    Description:\n",
    "        This method calculates the accuracy of predictions\n",
    "    '''\n",
    "    assert len(actual) == len(predictions)\n",
    "    correct = 0\n",
    "    for i in range(len(actual)):\n",
    "        if actual[i] == predictions[i]:\n",
    "            correct += 1\n",
    "    print(\"Acuracy of kNN model: \",correct / float(len(actual)) * 100.0)"
   ]
  },
  {
   "cell_type": "code",
   "execution_count": 5,
   "metadata": {},
   "outputs": [],
   "source": [
    "def readData(fileName):\n",
    "    '''\n",
    "    Description:\n",
    "        This method is to read the data from a given file\n",
    "    '''\n",
    "    data = []\n",
    "    labels = []\n",
    "\n",
    "    with open(fileName, \"r\") as file:\n",
    "        lines = file.readlines() \n",
    "    for line in lines:\n",
    "        splitline = line.strip().split(',')\n",
    "        data.append(splitline[:-1])\n",
    "        labels.append(splitline[-1])\n",
    "    return data, labels"
   ]
  },
  {
   "cell_type": "markdown",
   "metadata": {},
   "source": [
    "### Hayes-Roth Data"
   ]
  },
  {
   "cell_type": "code",
   "execution_count": 6,
   "metadata": {},
   "outputs": [],
   "source": [
    "trainFile = 'Datasets/HayesRoth/hayes-roth.data'\n",
    "\n",
    "trainData, trainLabel = readData(trainFile)\n",
    "\n",
    "trainFeatures = []\n",
    "for row in trainData:\n",
    "    index = row[1:]\n",
    "    temp = [int(item) for item in index]\n",
    "    trainFeatures.append(temp)\n",
    "    \n",
    "trainLabels = [int(label) for label in trainLabel]"
   ]
  },
  {
   "cell_type": "code",
   "execution_count": 7,
   "metadata": {},
   "outputs": [],
   "source": [
    "testFile = 'Datasets/HayesRoth/hayes-roth.test'\n",
    "\n",
    "testData, testLabel = readData(testFile)\n",
    "\n",
    "testFeatures = []\n",
    "for row in testData:\n",
    "    index = row[0:]\n",
    "    temp = [int(item) for item in index]\n",
    "    testFeatures.append(temp)\n",
    "    \n",
    "testLabels = [int(label) for label in testLabel]"
   ]
  },
  {
   "cell_type": "code",
   "execution_count": 8,
   "metadata": {},
   "outputs": [],
   "source": [
    "knn = kNNClassifier()\n",
    "knn.fit(trainFeatures, trainLabels)"
   ]
  },
  {
   "cell_type": "code",
   "execution_count": 9,
   "metadata": {},
   "outputs": [],
   "source": [
    "eucPredictions = knn.predict(testFeatures, 3, 'euclidean')"
   ]
  },
  {
   "cell_type": "code",
   "execution_count": 10,
   "metadata": {},
   "outputs": [
    {
     "name": "stdout",
     "output_type": "stream",
     "text": [
      "Acuracy of kNN model:  67.85714285714286\n"
     ]
    }
   ],
   "source": [
    "printMetrics(testLabels, eucPredictions)"
   ]
  },
  {
   "cell_type": "code",
   "execution_count": 11,
   "metadata": {},
   "outputs": [],
   "source": [
    "manPredictions = knn.predict(testFeatures, 3, 'manhattan')"
   ]
  },
  {
   "cell_type": "code",
   "execution_count": 12,
   "metadata": {},
   "outputs": [
    {
     "name": "stdout",
     "output_type": "stream",
     "text": [
      "Acuracy of kNN model:  85.71428571428571\n"
     ]
    }
   ],
   "source": [
    "printMetrics(testLabels, manPredictions)"
   ]
  },
  {
   "cell_type": "code",
   "execution_count": 13,
   "metadata": {},
   "outputs": [],
   "source": [
    "hamPred = knn.predict(testFeatures, 3, 'hamming')"
   ]
  },
  {
   "cell_type": "code",
   "execution_count": 14,
   "metadata": {},
   "outputs": [
    {
     "name": "stdout",
     "output_type": "stream",
     "text": [
      "Acuracy of kNN model:  64.28571428571429\n"
     ]
    }
   ],
   "source": [
    "printMetrics(testLabels, hamPred)"
   ]
  },
  {
   "cell_type": "code",
   "execution_count": null,
   "metadata": {},
   "outputs": [],
   "source": []
  }
 ],
 "metadata": {
  "kernelspec": {
   "display_name": "Python 3",
   "language": "python",
   "name": "python3"
  },
  "language_info": {
   "codemirror_mode": {
    "name": "ipython",
    "version": 3
   },
   "file_extension": ".py",
   "mimetype": "text/x-python",
   "name": "python",
   "nbconvert_exporter": "python",
   "pygments_lexer": "ipython3",
   "version": "3.7.7"
  }
 },
 "nbformat": 4,
 "nbformat_minor": 4
}
